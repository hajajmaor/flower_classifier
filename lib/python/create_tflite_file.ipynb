{
 "metadata": {
  "language_info": {
   "codemirror_mode": {
    "name": "ipython",
    "version": 3
   },
   "file_extension": ".py",
   "mimetype": "text/x-python",
   "name": "python",
   "nbconvert_exporter": "python",
   "pygments_lexer": "ipython3",
   "version": "3.8.2-final"
  },
  "orig_nbformat": 2,
  "kernelspec": {
   "name": "Python 3.8.2 64-bit ('.env')",
   "display_name": "Python 3.8.2 64-bit ('.env')",
   "metadata": {
    "interpreter": {
     "hash": "8fc25ab558a412f9716d7123b51af18d66c99ec518afab004b7ae1c8eee71e86"
    }
   }
  }
 },
 "nbformat": 4,
 "nbformat_minor": 2,
 "cells": [
  {
   "cell_type": "code",
   "execution_count": 1,
   "metadata": {},
   "outputs": [],
   "source": [
    "import tensorflow as tf\n",
    "import os"
   ]
  },
  {
   "cell_type": "code",
   "execution_count": 2,
   "metadata": {},
   "outputs": [],
   "source": [
    "_url='https://storage.googleapi.com/download.tensorflow.org/example_images/flower_photos.tgz'\n",
    "zip_file=tf.keras.utils.get_file(origin=_url,fname='flower_photos.tgz',extract=True,cache_subdir='/content')\n"
   ]
  },
  {
   "cell_type": "code",
   "execution_count": null,
   "metadata": {},
   "outputs": [],
   "source": []
  }
 ]
}