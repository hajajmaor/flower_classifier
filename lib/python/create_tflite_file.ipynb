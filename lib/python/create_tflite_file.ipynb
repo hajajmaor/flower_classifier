{
 "metadata": {
  "language_info": {
   "codemirror_mode": {
    "name": "ipython",
    "version": 3
   },
   "file_extension": ".py",
   "mimetype": "text/x-python",
   "name": "python",
   "nbconvert_exporter": "python",
   "pygments_lexer": "ipython3",
   "version": "3.8.6-final"
  },
  "orig_nbformat": 2,
  "kernelspec": {
   "name": "Python 3.8.6 64-bit ('.env': venv)",
   "display_name": "Python 3.8.6 64-bit ('.env': venv)",
   "metadata": {
    "interpreter": {
     "hash": "ea4d09f586ef7a8c83e7019d401eed972dea7cd3ac686a6b1989d6535f4919fa"
    }
   }
  }
 },
 "nbformat": 4,
 "nbformat_minor": 2,
 "cells": [
  {
   "cell_type": "code",
   "execution_count": 1,
   "metadata": {},
   "outputs": [],
   "source": [
    "import tensorflow as tf\n",
    "import os"
   ]
  },
  {
   "cell_type": "code",
   "execution_count": 2,
   "metadata": {},
   "outputs": [],
   "source": [
    "# get current dir\n",
    "current_dir=os.path.dirname(os.path.realpath(__name__))"
   ]
  },
  {
   "cell_type": "code",
   "execution_count": 3,
   "metadata": {},
   "outputs": [
    {
     "output_type": "stream",
     "name": "stdout",
     "text": [
      "Downloading data from https://storage.googleapis.com/download.tensorflow.org/example_images/flower_photos.tgz\n",
      "228818944/228813984 [==============================] - 9s 0us/step\n"
     ]
    }
   ],
   "source": [
    "# dataset url\n",
    "#\n",
    "#the next command will create a dir called 'content' in your current location - be aware\n",
    "#\n",
    "\n",
    "_url='https://storage.googleapis.com/download.tensorflow.org/example_images/flower_photos.tgz'\n",
    "\n",
    "#download command\n",
    "zip_file=tf.keras.utils.get_file(origin=_url,fname='flower_photos.tgz',extract=True,cache_subdir=current_dir+'/content')\n",
    "\n",
    "#add dir to path\n",
    "base_dir=os.path.join(os.path.dirname(zip_file),'flower_photos')"
   ]
  },
  {
   "cell_type": "code",
   "execution_count": 4,
   "metadata": {},
   "outputs": [],
   "source": [
    "#not needed anymore\n",
    "del current_dir"
   ]
  },
  {
   "cell_type": "code",
   "execution_count": 5,
   "metadata": {},
   "outputs": [],
   "source": [
    "_IMAGE_SIZE=224\n",
    "_BATCH_SIZE=64\n"
   ]
  },
  {
   "cell_type": "code",
   "execution_count": 6,
   "metadata": {},
   "outputs": [],
   "source": [
    "# validation_split - split to 20% test & 80% train\n",
    "data_gen=tf.keras.preprocessing.image.ImageDataGenerator(\n",
    "    rescale=1./255,\n",
    "    validation_split=0.2\n",
    ")"
   ]
  },
  {
   "cell_type": "code",
   "execution_count": 7,
   "metadata": {},
   "outputs": [
    {
     "output_type": "stream",
     "name": "stdout",
     "text": [
      "Found 2939 images belonging to 5 classes.\n"
     ]
    }
   ],
   "source": [
    "# splitted to training and validation\n",
    "# 80% train =>\n",
    "\n",
    "train_gen=data_gen.flow_from_directory(\n",
    "    base_dir,\n",
    "target_size=(_IMAGE_SIZE,_IMAGE_SIZE),\n",
    "batch_size=_BATCH_SIZE,\n",
    "subset='training'\n",
    ")"
   ]
  },
  {
   "cell_type": "code",
   "execution_count": 8,
   "metadata": {},
   "outputs": [
    {
     "output_type": "stream",
     "name": "stdout",
     "text": [
      "Found 731 images belonging to 5 classes.\n"
     ]
    }
   ],
   "source": [
    "# 20% validation =>\n",
    "\n",
    "val_gen=data_gen.flow_from_directory(\n",
    "    base_dir,\n",
    "target_size=(_IMAGE_SIZE,_IMAGE_SIZE),\n",
    "batch_size=_BATCH_SIZE,\n",
    "subset='validation'\n",
    ")"
   ]
  },
  {
   "cell_type": "code",
   "execution_count": 9,
   "metadata": {},
   "outputs": [],
   "source": [
    "lables='\\n'.join(sorted(train_gen.class_indices.keys()))\n",
    "with open('labels.txt','w') as f:\n",
    "    f.write(lables)\n",
    "\n",
    "#del from memory\n",
    "del lables"
   ]
  },
  {
   "cell_type": "code",
   "execution_count": 10,
   "metadata": {},
   "outputs": [
    {
     "output_type": "stream",
     "name": "stdout",
     "text": [
      "Downloading data from https://storage.googleapis.com/tensorflow/keras-applications/mobilenet_v2/mobilenet_v2_weights_tf_dim_ordering_tf_kernels_1.0_224_no_top.h5\n",
      "9412608/9406464 [==============================] - 1s 0us/step\n"
     ]
    }
   ],
   "source": [
    "_IMG_SHAPE=(_IMAGE_SIZE,_IMAGE_SIZE,3)\n",
    "base_model=tf.keras.applications.MobileNetV2(\n",
    "    input_shape=_IMG_SHAPE,\n",
    "    include_top=False,\n",
    "    weights='imagenet'\n",
    "    )"
   ]
  },
  {
   "cell_type": "code",
   "execution_count": 11,
   "metadata": {},
   "outputs": [],
   "source": [
    "base_model.trainable=False"
   ]
  },
  {
   "cell_type": "code",
   "execution_count": 12,
   "metadata": {},
   "outputs": [],
   "source": [
    "#short import to make the next command shorter\n",
    "from tensorflow.keras import layers\n",
    "\n",
    "# 5 = num of classes\n",
    "model=tf.keras.Sequential([\n",
    "    base_model,\n",
    "layers.Conv2D(32,3,activation='relu'),\n",
    "layers.Dropout(0.2),\n",
    "layers.GlobalAveragePooling2D(),\n",
    "layers.Dense(5,activation='softmax')\n",
    "])"
   ]
  },
  {
   "cell_type": "code",
   "execution_count": 13,
   "metadata": {},
   "outputs": [],
   "source": [
    "model.compile(\n",
    "optimizer=tf.keras.optimizers.Adam(),loss='categorical_crossentropy',\n",
    "metrics=['accuracy']\n",
    " )"
   ]
  },
  {
   "cell_type": "code",
   "execution_count": 14,
   "metadata": {},
   "outputs": [],
   "source": [
    "import PIL"
   ]
  },
  {
   "cell_type": "code",
   "execution_count": 15,
   "metadata": {},
   "outputs": [
    {
     "output_type": "stream",
     "name": "stdout",
     "text": [
      "Epoch 1/10\n",
      "46/46 [==============================] - 31s 664ms/step - loss: 1.2887 - accuracy: 0.5723 - val_loss: 0.7494 - val_accuracy: 0.7127\n",
      "Epoch 2/10\n",
      "46/46 [==============================] - 30s 659ms/step - loss: 0.6337 - accuracy: 0.7173 - val_loss: 0.6408 - val_accuracy: 0.6867\n",
      "Epoch 3/10\n",
      "46/46 [==============================] - 30s 659ms/step - loss: 0.3526 - accuracy: 0.8486 - val_loss: 0.4079 - val_accuracy: 0.8687\n",
      "Epoch 4/10\n",
      "46/46 [==============================] - 30s 655ms/step - loss: 0.1776 - accuracy: 0.9411 - val_loss: 0.4318 - val_accuracy: 0.8468\n",
      "Epoch 5/10\n",
      "46/46 [==============================] - 30s 649ms/step - loss: 0.1157 - accuracy: 0.9622 - val_loss: 0.4810 - val_accuracy: 0.8495\n",
      "Epoch 6/10\n",
      "46/46 [==============================] - 30s 657ms/step - loss: 0.0778 - accuracy: 0.9789 - val_loss: 0.4673 - val_accuracy: 0.8700\n",
      "Epoch 7/10\n",
      "46/46 [==============================] - 30s 651ms/step - loss: 0.0639 - accuracy: 0.9826 - val_loss: 0.5087 - val_accuracy: 0.8618\n",
      "Epoch 8/10\n",
      "46/46 [==============================] - 30s 649ms/step - loss: 0.0413 - accuracy: 0.9905 - val_loss: 0.5803 - val_accuracy: 0.8440\n",
      "Epoch 9/10\n",
      "46/46 [==============================] - 30s 650ms/step - loss: 0.0314 - accuracy: 0.9939 - val_loss: 0.5527 - val_accuracy: 0.8700\n",
      "Epoch 10/10\n",
      "46/46 [==============================] - 30s 653ms/step - loss: 0.0181 - accuracy: 0.9976 - val_loss: 0.5520 - val_accuracy: 0.8659\n"
     ]
    }
   ],
   "source": [
    "#fitting the model\n",
    "epochs=10\n",
    "history=model.fit(\n",
    "    train_gen,\n",
    "    epochs=epochs,\n",
    "    validation_data=val_gen\n",
    "    )"
   ]
  },
  {
   "cell_type": "code",
   "execution_count": 16,
   "metadata": {},
   "outputs": [
    {
     "output_type": "stream",
     "name": "stdout",
     "text": [
      "WARNING:tensorflow:From d:\\projects\\flutter\\flower_classifier\\lib\\python\\.env\\lib\\site-packages\\tensorflow\\python\\training\\tracking\\tracking.py:111: Model.state_updates (from tensorflow.python.keras.engine.training) is deprecated and will be removed in a future version.\n",
      "Instructions for updating:\n",
      "This property should not be used in TensorFlow 2.0, as updates are applied automatically.\n",
      "WARNING:tensorflow:From d:\\projects\\flutter\\flower_classifier\\lib\\python\\.env\\lib\\site-packages\\tensorflow\\python\\training\\tracking\\tracking.py:111: Layer.updates (from tensorflow.python.keras.engine.base_layer) is deprecated and will be removed in a future version.\n",
      "Instructions for updating:\n",
      "This property should not be used in TensorFlow 2.0, as updates are applied automatically.\n",
      "INFO:tensorflow:Assets written to: assets\n"
     ]
    }
   ],
   "source": [
    "saved_model_dir=''\n",
    "tf.saved_model.save(model,saved_model_dir)\n",
    "converter=tf.lite.TFLiteConverter.from_saved_model(saved_model_dir)\n",
    "tflite_model=converter.convert()\n",
    "\n",
    "with open('model.tflite','wb') as f:\n",
    "    f.write(tflite_model)"
   ]
  },
  {
   "cell_type": "code",
   "execution_count": null,
   "metadata": {},
   "outputs": [],
   "source": [
    "# in the project dir there will be many new files \n",
    "# we want only the labels.txt and model.tflite files."
   ]
  },
  {
   "cell_type": "code",
   "execution_count": null,
   "metadata": {},
   "outputs": [],
   "source": [
    "# in the video he used commands to download from the colab website\n",
    "# i've done it localy, so just copy to the assets folder in the flutter projects."
   ]
  }
 ]
}